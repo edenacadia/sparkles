{
 "cells": [
  {
   "cell_type": "markdown",
   "metadata": {},
   "source": [
    "# Log Readers"
   ]
  },
  {
   "attachments": {},
   "cell_type": "markdown",
   "metadata": {},
   "source": [
    "Read from the "
   ]
  },
  {
   "cell_type": "code",
   "execution_count": 2,
   "metadata": {},
   "outputs": [],
   "source": [
    "import sparkles.spark as Spark\n",
    "import sparkles.file_reader as fr\n",
    "import pandas as pd"
   ]
  },
  {
   "attachments": {},
   "cell_type": "markdown",
   "metadata": {},
   "source": [
    "## working on josephs magic code"
   ]
  },
  {
   "cell_type": "code",
   "execution_count": null,
   "metadata": {},
   "outputs": [],
   "source": [
    "import subprocess\n"
   ]
  },
  {
   "attachments": {},
   "cell_type": "markdown",
   "metadata": {},
   "source": [
    "## Creating a sparkle Log\n",
    "\n",
    "Requires two telemetry dumps, the seeing and the sparkle log. \n",
    "\n",
    "first create them (this takes some time) then clean them into a csv\n",
    "\n"
   ]
  },
  {
   "cell_type": "code",
   "execution_count": null,
   "metadata": {},
   "outputs": [],
   "source": []
  },
  {
   "attachments": {},
   "cell_type": "markdown",
   "metadata": {},
   "source": [
    "## Using sparkle Log\n",
    "\n"
   ]
  },
  {
   "cell_type": "code",
   "execution_count": 2,
   "metadata": {},
   "outputs": [],
   "source": [
    "log_dir = \"/home/eden/data/2023A/log/\"\n",
    "tsci_csv = log_dir + \"spkl_tsci_23A_clean.csv\"\n",
    "tel_csv = log_dir + \"spkl_teldump_23A_clean.csv\""
   ]
  },
  {
   "cell_type": "code",
   "execution_count": 3,
   "metadata": {},
   "outputs": [],
   "source": [
    "tsci_pd = pd.read_csv(tsci_csv) # DSEEING, BSEEING until 03_17\n",
    "tel_pd = pd.read_csv(tel_csv)"
   ]
  },
  {
   "cell_type": "code",
   "execution_count": 4,
   "metadata": {},
   "outputs": [],
   "source": [
    "# need to sort on UT\n",
    "tsci_pd[\"UT\"] = pd.to_datetime(tsci_pd[\"UT\"])\n",
    "tel_pd[\"UT\"] = pd.to_datetime(tel_pd[\"UT\"])"
   ]
  },
  {
   "cell_type": "code",
   "execution_count": 6,
   "metadata": {},
   "outputs": [
    {
     "data": {
      "text/plain": [
       "206"
      ]
     },
     "execution_count": 6,
     "metadata": {},
     "output_type": "execute_result"
    }
   ],
   "source": [
    "tsci_pd['DSEEING'].nunique()"
   ]
  },
  {
   "cell_type": "code",
   "execution_count": 7,
   "metadata": {},
   "outputs": [],
   "source": [
    "tsci_pd[\"DIMM_diff\"] = tsci_pd['DSEEING'].diff()\n",
    "tsci_pd_filt = tsci_pd[tsci_pd['DIMM_diff'] != 0]"
   ]
  },
  {
   "cell_type": "code",
   "execution_count": 8,
   "metadata": {},
   "outputs": [
    {
     "data": {
      "text/html": [
       "<div>\n",
       "<style scoped>\n",
       "    .dataframe tbody tr th:only-of-type {\n",
       "        vertical-align: middle;\n",
       "    }\n",
       "\n",
       "    .dataframe tbody tr th {\n",
       "        vertical-align: top;\n",
       "    }\n",
       "\n",
       "    .dataframe thead th {\n",
       "        text-align: right;\n",
       "    }\n",
       "</style>\n",
       "<table border=\"1\" class=\"dataframe\">\n",
       "  <thead>\n",
       "    <tr style=\"text-align: right;\">\n",
       "      <th></th>\n",
       "      <th>UT</th>\n",
       "      <th>DSEEING</th>\n",
       "      <th>DSEEING_COR</th>\n",
       "      <th>BSEEING</th>\n",
       "      <th>BSEEING_COR</th>\n",
       "      <th>DIMM_diff</th>\n",
       "      <th>MOD</th>\n",
       "      <th>TRIG</th>\n",
       "      <th>HZ</th>\n",
       "      <th>SEPS</th>\n",
       "      <th>ANGS</th>\n",
       "      <th>AMPS</th>\n",
       "    </tr>\n",
       "  </thead>\n",
       "  <tbody>\n",
       "    <tr>\n",
       "      <th>0</th>\n",
       "      <td>2022-12-05 09:13:55</td>\n",
       "      <td>-1.00</td>\n",
       "      <td>-1.000000</td>\n",
       "      <td>-1.00</td>\n",
       "      <td>-1.000000</td>\n",
       "      <td>-1.90</td>\n",
       "      <td>True</td>\n",
       "      <td>True</td>\n",
       "      <td>NaN</td>\n",
       "      <td>10.0</td>\n",
       "      <td>0.0</td>\n",
       "      <td>0.04</td>\n",
       "    </tr>\n",
       "    <tr>\n",
       "      <th>1</th>\n",
       "      <td>2022-12-06 00:52:50</td>\n",
       "      <td>-1.00</td>\n",
       "      <td>-1.000000</td>\n",
       "      <td>1.13</td>\n",
       "      <td>1.017347</td>\n",
       "      <td>-2.15</td>\n",
       "      <td>False</td>\n",
       "      <td>False</td>\n",
       "      <td>NaN</td>\n",
       "      <td>NaN</td>\n",
       "      <td>NaN</td>\n",
       "      <td>NaN</td>\n",
       "    </tr>\n",
       "    <tr>\n",
       "      <th>2</th>\n",
       "      <td>2022-12-06 01:27:10</td>\n",
       "      <td>1.43</td>\n",
       "      <td>1.377719</td>\n",
       "      <td>1.06</td>\n",
       "      <td>0.947353</td>\n",
       "      <td>0.10</td>\n",
       "      <td>False</td>\n",
       "      <td>False</td>\n",
       "      <td>NaN</td>\n",
       "      <td>NaN</td>\n",
       "      <td>NaN</td>\n",
       "      <td>NaN</td>\n",
       "    </tr>\n",
       "    <tr>\n",
       "      <th>3</th>\n",
       "      <td>2022-12-06 01:30:20</td>\n",
       "      <td>1.31</td>\n",
       "      <td>1.259476</td>\n",
       "      <td>1.13</td>\n",
       "      <td>1.002235</td>\n",
       "      <td>0.04</td>\n",
       "      <td>False</td>\n",
       "      <td>False</td>\n",
       "      <td>NaN</td>\n",
       "      <td>NaN</td>\n",
       "      <td>NaN</td>\n",
       "      <td>NaN</td>\n",
       "    </tr>\n",
       "    <tr>\n",
       "      <th>4</th>\n",
       "      <td>2022-12-06 02:07:09</td>\n",
       "      <td>0.76</td>\n",
       "      <td>0.710547</td>\n",
       "      <td>0.93</td>\n",
       "      <td>0.676690</td>\n",
       "      <td>-0.07</td>\n",
       "      <td>False</td>\n",
       "      <td>False</td>\n",
       "      <td>NaN</td>\n",
       "      <td>NaN</td>\n",
       "      <td>NaN</td>\n",
       "      <td>NaN</td>\n",
       "    </tr>\n",
       "    <tr>\n",
       "      <th>...</th>\n",
       "      <td>...</td>\n",
       "      <td>...</td>\n",
       "      <td>...</td>\n",
       "      <td>...</td>\n",
       "      <td>...</td>\n",
       "      <td>...</td>\n",
       "      <td>...</td>\n",
       "      <td>...</td>\n",
       "      <td>...</td>\n",
       "      <td>...</td>\n",
       "      <td>...</td>\n",
       "      <td>...</td>\n",
       "    </tr>\n",
       "    <tr>\n",
       "      <th>723</th>\n",
       "      <td>2023-03-17 09:34:02</td>\n",
       "      <td>0.64</td>\n",
       "      <td>0.595836</td>\n",
       "      <td>0.60</td>\n",
       "      <td>0.472459</td>\n",
       "      <td>-0.01</td>\n",
       "      <td>True</td>\n",
       "      <td>True</td>\n",
       "      <td>NaN</td>\n",
       "      <td>20.0</td>\n",
       "      <td>0.0</td>\n",
       "      <td>0.02</td>\n",
       "    </tr>\n",
       "    <tr>\n",
       "      <th>724</th>\n",
       "      <td>2023-03-17 09:41:02</td>\n",
       "      <td>0.55</td>\n",
       "      <td>0.508778</td>\n",
       "      <td>-1.00</td>\n",
       "      <td>-1.000000</td>\n",
       "      <td>-0.01</td>\n",
       "      <td>True</td>\n",
       "      <td>True</td>\n",
       "      <td>NaN</td>\n",
       "      <td>20.0</td>\n",
       "      <td>0.0</td>\n",
       "      <td>0.02</td>\n",
       "    </tr>\n",
       "    <tr>\n",
       "      <th>725</th>\n",
       "      <td>2023-03-17 09:51:02</td>\n",
       "      <td>0.64</td>\n",
       "      <td>0.587400</td>\n",
       "      <td>0.61</td>\n",
       "      <td>0.569555</td>\n",
       "      <td>0.04</td>\n",
       "      <td>True</td>\n",
       "      <td>True</td>\n",
       "      <td>NaN</td>\n",
       "      <td>20.0</td>\n",
       "      <td>0.0</td>\n",
       "      <td>0.02</td>\n",
       "    </tr>\n",
       "    <tr>\n",
       "      <th>726</th>\n",
       "      <td>2023-03-17 09:53:02</td>\n",
       "      <td>0.61</td>\n",
       "      <td>0.558679</td>\n",
       "      <td>0.61</td>\n",
       "      <td>0.569555</td>\n",
       "      <td>0.08</td>\n",
       "      <td>True</td>\n",
       "      <td>True</td>\n",
       "      <td>NaN</td>\n",
       "      <td>20.0</td>\n",
       "      <td>0.0</td>\n",
       "      <td>0.02</td>\n",
       "    </tr>\n",
       "    <tr>\n",
       "      <th>727</th>\n",
       "      <td>2023-03-17 09:59:02</td>\n",
       "      <td>0.57</td>\n",
       "      <td>0.519195</td>\n",
       "      <td>-1.00</td>\n",
       "      <td>-1.000000</td>\n",
       "      <td>-0.03</td>\n",
       "      <td>False</td>\n",
       "      <td>False</td>\n",
       "      <td>NaN</td>\n",
       "      <td>NaN</td>\n",
       "      <td>NaN</td>\n",
       "      <td>NaN</td>\n",
       "    </tr>\n",
       "  </tbody>\n",
       "</table>\n",
       "<p>728 rows × 12 columns</p>\n",
       "</div>"
      ],
      "text/plain": [
       "                     UT  DSEEING  DSEEING_COR  BSEEING  BSEEING_COR  \\\n",
       "0   2022-12-05 09:13:55    -1.00    -1.000000    -1.00    -1.000000   \n",
       "1   2022-12-06 00:52:50    -1.00    -1.000000     1.13     1.017347   \n",
       "2   2022-12-06 01:27:10     1.43     1.377719     1.06     0.947353   \n",
       "3   2022-12-06 01:30:20     1.31     1.259476     1.13     1.002235   \n",
       "4   2022-12-06 02:07:09     0.76     0.710547     0.93     0.676690   \n",
       "..                  ...      ...          ...      ...          ...   \n",
       "723 2023-03-17 09:34:02     0.64     0.595836     0.60     0.472459   \n",
       "724 2023-03-17 09:41:02     0.55     0.508778    -1.00    -1.000000   \n",
       "725 2023-03-17 09:51:02     0.64     0.587400     0.61     0.569555   \n",
       "726 2023-03-17 09:53:02     0.61     0.558679     0.61     0.569555   \n",
       "727 2023-03-17 09:59:02     0.57     0.519195    -1.00    -1.000000   \n",
       "\n",
       "     DIMM_diff    MOD   TRIG  HZ  SEPS  ANGS  AMPS  \n",
       "0        -1.90   True   True NaN  10.0   0.0  0.04  \n",
       "1        -2.15  False  False NaN   NaN   NaN   NaN  \n",
       "2         0.10  False  False NaN   NaN   NaN   NaN  \n",
       "3         0.04  False  False NaN   NaN   NaN   NaN  \n",
       "4        -0.07  False  False NaN   NaN   NaN   NaN  \n",
       "..         ...    ...    ...  ..   ...   ...   ...  \n",
       "723      -0.01   True   True NaN  20.0   0.0  0.02  \n",
       "724      -0.01   True   True NaN  20.0   0.0  0.02  \n",
       "725       0.04   True   True NaN  20.0   0.0  0.02  \n",
       "726       0.08   True   True NaN  20.0   0.0  0.02  \n",
       "727      -0.03  False  False NaN   NaN   NaN   NaN  \n",
       "\n",
       "[728 rows x 12 columns]"
      ]
     },
     "execution_count": 8,
     "metadata": {},
     "output_type": "execute_result"
    }
   ],
   "source": [
    "merged_df = pd.merge(tsci_pd_filt, tel_pd, on='UT') \n",
    "merged_df"
   ]
  },
  {
   "cell_type": "code",
   "execution_count": 10,
   "metadata": {},
   "outputs": [],
   "source": [
    "# merge the two dataframes by time\n",
    "# name of the merged df:\n",
    "merged_f = log_dir + \"merge_spk_tsci.csv\"\n",
    "merged_df.to_csv(merged_f, index=False)"
   ]
  },
  {
   "attachments": {},
   "cell_type": "markdown",
   "metadata": {},
   "source": [
    "## "
   ]
  },
  {
   "cell_type": "code",
   "execution_count": null,
   "metadata": {},
   "outputs": [],
   "source": []
  }
 ],
 "metadata": {
  "kernelspec": {
   "display_name": "base",
   "language": "python",
   "name": "python3"
  },
  "language_info": {
   "codemirror_mode": {
    "name": "ipython",
    "version": 3
   },
   "file_extension": ".py",
   "mimetype": "text/x-python",
   "name": "python",
   "nbconvert_exporter": "python",
   "pygments_lexer": "ipython3",
   "version": "3.10.6"
  },
  "orig_nbformat": 4
 },
 "nbformat": 4,
 "nbformat_minor": 2
}
